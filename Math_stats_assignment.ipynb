{
  "nbformat": 4,
  "nbformat_minor": 0,
  "metadata": {
    "colab": {
      "provenance": []
    },
    "kernelspec": {
      "name": "python3",
      "display_name": "Python 3"
    },
    "language_info": {
      "name": "python"
    }
  },
  "cells": [
    {
      "cell_type": "code",
      "source": [
        "1. Find the Cartesian Product of the below given sets in the below cell. (In Python Code)\n",
        "A = set(['a','b','c'])\n",
        "\n",
        "S = {1,2,3}"
      ],
      "metadata": {
        "id": "vMcVNk-hln3t"
      },
      "execution_count": null,
      "outputs": []
    },
    {
      "cell_type": "code",
      "source": [
        "from itertools import product\n",
        "\n",
        "A = set(['a', 'b', 'c'])\n",
        "S = {1, 2, 3}\n",
        "\n",
        "cartesian_product = set(product(A, S))\n",
        "print(cartesian_product)\n"
      ],
      "metadata": {
        "colab": {
          "base_uri": "https://localhost:8080/"
        },
        "id": "1iRp6pHUlsKR",
        "outputId": "9da992ec-6bb1-4073-8460-46c6d90b7223"
      },
      "execution_count": null,
      "outputs": [
        {
          "output_type": "stream",
          "name": "stdout",
          "text": [
            "{('b', 2), ('a', 3), ('c', 3), ('b', 1), ('a', 2), ('c', 2), ('b', 3), ('a', 1), ('c', 1)}\n"
          ]
        }
      ]
    },
    {
      "cell_type": "code",
      "source": [
        "2. Find all the possible permutations and number of permutations of A\n",
        "A = {'Red','Green','Blue'}"
      ],
      "metadata": {
        "id": "aoQ9s4DqlsWN"
      },
      "execution_count": null,
      "outputs": []
    },
    {
      "cell_type": "code",
      "source": [
        "from itertools import permutations\n",
        "\n",
        "A = {'Red', 'Green', 'Blue'}\n",
        "\n",
        "all_permutations = list(permutations(A))\n",
        "number_of_permutations = len(all_permutations)\n",
        "\n",
        "print(\"All Permutations:\", all_permutations)\n",
        "print(\"Number of Permutations:\", number_of_permutations)\n"
      ],
      "metadata": {
        "colab": {
          "base_uri": "https://localhost:8080/"
        },
        "id": "U-3qIh-Rl4yQ",
        "outputId": "936f155b-7ab9-435d-f182-079f56e32bae"
      },
      "execution_count": null,
      "outputs": [
        {
          "output_type": "stream",
          "name": "stdout",
          "text": [
            "All Permutations: [('Green', 'Blue', 'Red'), ('Green', 'Red', 'Blue'), ('Blue', 'Green', 'Red'), ('Blue', 'Red', 'Green'), ('Red', 'Green', 'Blue'), ('Red', 'Blue', 'Green')]\n",
            "Number of Permutations: 6\n"
          ]
        }
      ]
    },
    {
      "cell_type": "code",
      "source": [
        "\n",
        "set1 = set(range(0, 32, 3))\n",
        "\n",
        "set2 = set(range(0, 32, 2))\n",
        "\n",
        "# Calculate the set difference (set1 - set2)\n",
        "result_set = set1 - set2\n",
        "\n",
        "print(\"Set1:\", set1)\n",
        "print(\"Set2:\", set2)\n",
        "print(\"Set Difference (Set1 - Set2):\", result_set)\n"
      ],
      "metadata": {
        "colab": {
          "base_uri": "https://localhost:8080/"
        },
        "id": "wRoKhR2Hm8UH",
        "outputId": "065d814e-0f6e-40d7-849c-f38a68253489"
      },
      "execution_count": null,
      "outputs": [
        {
          "output_type": "stream",
          "name": "stdout",
          "text": [
            "Set1: {0, 3, 6, 9, 12, 15, 18, 21, 24, 27, 30}\n",
            "Set2: {0, 2, 4, 6, 8, 10, 12, 14, 16, 18, 20, 22, 24, 26, 28, 30}\n",
            "Set Difference (Set1 - Set2): {3, 9, 15, 21, 27}\n"
          ]
        }
      ]
    },
    {
      "cell_type": "code",
      "source": [
        "import random\n",
        "import math\n",
        "\n",
        "def generate_random_array(size):\n",
        "    return [random.randint(1, 100) for _ in range(size)]\n",
        "\n",
        "def calculate_mean(arr):\n",
        "    return sum(arr) / len(arr)\n",
        "\n",
        "def calculate_variance(arr, mean):\n",
        "    return sum((x - mean) ** 2 for x in arr) / len(arr)\n",
        "\n",
        "def calculate_standard_deviation(variance):\n",
        "    return math.sqrt(variance)\n",
        "\n",
        "random_array = generate_random_array(10)\n",
        "\n",
        "# Calculate mean, variance, and standard deviation\n",
        "mean_value = calculate_mean(random_array)\n",
        "variance_value = calculate_variance(random_array, mean_value)\n",
        "std_deviation_value = calculate_standard_deviation(variance_value)\n",
        "\n",
        "# Print the results\n",
        "print(\"Random Array:\", random_array)\n",
        "print(\"Mean:\", mean_value)\n",
        "print(\"Variance:\", variance_value)\n",
        "print(\"Standard Deviation:\", std_deviation_value)\n"
      ],
      "metadata": {
        "colab": {
          "base_uri": "https://localhost:8080/"
        },
        "id": "0wna47MSnP8s",
        "outputId": "057d0bfa-3419-4b45-e4bb-97e66583c60c"
      },
      "execution_count": null,
      "outputs": [
        {
          "output_type": "stream",
          "name": "stdout",
          "text": [
            "Random Array: [63, 87, 88, 48, 63, 20, 63, 14, 61, 98]\n",
            "Mean: 60.5\n",
            "Variance: 684.25\n",
            "Standard Deviation: 26.158172719056658\n"
          ]
        }
      ]
    }
  ]
}